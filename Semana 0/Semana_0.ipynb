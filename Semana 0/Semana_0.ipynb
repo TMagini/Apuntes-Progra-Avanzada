{
 "cells": [
  {
   "cell_type": "markdown",
   "metadata": {},
   "source": [
    "# Semana 0\n",
    "\n",
    "1. [Path](#Path)\n",
    "2. [Archivos (poco)](#Archivos-(poco))\n",
    "\n",
    "## Path\n",
    "\n",
    "Los path pueden ser **absolutos** o **relativos**.\n",
    "\n",
    "El **absoluto** comienza desde la **raiz** del sistema de archivos, por ejemplo en Windows puede ser `\\` o `C:\\`, el problema es que requiere que la ruta exista **exactamente iugal** en todos los sistemas de archivos en que se ejecuta el programa.\n",
    "\n",
    "El **relativo** comienza con el cracter de directorio raiz e indica una direcciónm **relativa a cierto directorio**. Por lo general se interpreta a partir de algún directorio específico, ( Ejemplo cuando se llama a un interprete de Python en un entorno virtual comienza con `env` que seria el entorno virtual metido en la carpeta y no con `C:\\`).\n",
    "\n",
    "Lo importante es que al usar **rutas absolutas** no importa desde que directorio se ejecuta el programa, en el ejemplo virtual, si no ejecuto en el entorno virtual con el interprete de Pyhon en el entorno virtual no econtraria el archivo, dado que el relativo **se realiza en cierto directorio** (o carpeta) del computador. EL contra de las rutas absolutas es que son específicas, en el caso de querer pasarle el código o programa a un tercero, no le correra dado que no tiene la misma _path_, por lo que con esta estructura única no se replica a otros computadores.\n",
    "\n",
    "- El path se divide en dos partes:\n",
    "\n",
    "    * El nombre del directorio o `dirname`, que es la carpeta donde se escuentra el archivo o directorio objetivo.\n",
    "    * El nombre del archivo o directorio objetivo, filename o `basename`, que es el nombre del archivo, incluyendo su extensión o directorio.\n",
    "\n",
    "El módulo os.path permite visualizar y/o separar el path en `dirname` y `basename`"
   ]
  },
  {
   "cell_type": "code",
   "execution_count": 4,
   "metadata": {
    "scrolled": false
   },
   "outputs": [
    {
     "name": "stdout",
     "output_type": "stream",
     "text": [
      "path: /carpeta1/carpeta2/imagen.jpg\n",
      "dirname: /carpeta1/carpeta2\n",
      "basename: imagen.jpg\n"
     ]
    }
   ],
   "source": [
    "import os\n",
    "\n",
    "path1 = '/carpeta1/carpeta2/imagen.jpg'\n",
    "\n",
    "dirname1 = os.path.dirname(path1)\n",
    "basename1 = os.path.basename(path1)\n",
    "\n",
    "print(f'path: {path1}')\n",
    "print(f'dirname: {dirname1}')\n",
    "print(f'basename: {basename1}')"
   ]
  },
  {
   "cell_type": "markdown",
   "metadata": {},
   "source": [
    "El módulo `os.path` tambien permite separar la extención del archivo mediante el método `.splitext`:"
   ]
  },
  {
   "cell_type": "code",
   "execution_count": 5,
   "metadata": {
    "scrolled": false
   },
   "outputs": [
    {
     "name": "stdout",
     "output_type": "stream",
     "text": [
      "imagen\n",
      ".jpg\n"
     ]
    }
   ],
   "source": [
    "nombre_sin_extension, extension = os.path.splitext(basename1)\n",
    "print(nombre_sin_extension)\n",
    "print(extension)"
   ]
  },
  {
   "cell_type": "markdown",
   "metadata": {},
   "source": [
    "El método `os.path.join`, junta los argumentos dados con un el separador del sistema operativo donde se ejecute, con lo que se recomienda trabajar de esta forma **fuertemente**.\n",
    "\n",
    "El método `os.listdir` entrega una lista con los nombres de directorios y archivos que se encuentran en ese directorio, en el caso de querer ver los contenidos almacenados en una carpeta dentro de un directorio, se debe poner el path o bien usar el método `.join`.\n",
    "\n",
    "Ejemplo:\n",
    "\n",
    "Tenemos la carpeta `data` que es el origen de nuestro directorio y dentro de esa carpeta tenmos la carptea `gato`, para poder ver la lista de contendios de la carpeta **gato** debemos correr el método `os.listdir` con el argumento con `.join`."
   ]
  },
  {
   "cell_type": "markdown",
   "metadata": {},
   "source": [
    "```python\n",
    "contenidos_lista = os.listdir(os.path.join('data', 'gato'))\n",
    "contenidos_lista\n",
    "```"
   ]
  },
  {
   "cell_type": "markdown",
   "metadata": {},
   "source": [
    "En cambio, el método `walk` nos permite poder obtener las rutas de un directorio, de sus subdirectorios y de sus archivos. Esto nos permite poder navegar dentro de una carpeta y ver, recursivamente, todo lo que contiene.\n",
    "\n",
    "El siguiente código muestra como se utiliza:\n",
    "\n",
    "```python\n",
    "for raiz, directorios, archivos in os.walk(\"data\", topdown = True):\n",
    "    print(\"Raíz:\",raiz)\n",
    "    print()\n",
    "    print(\"Archivos:\")\n",
    "    for archivo in archivos:\n",
    "        print(os.path.join(raiz, archivo))\n",
    "    print()\n",
    "    print(\"Directorios:\")\n",
    "    for directorio in directorios:\n",
    "        print(os.path.join(raiz, directorio))\n",
    "    print(\"-\"*30)\n",
    "```\n",
    "\n",
    "```python\n",
    "'''\n",
    "Raíz: data\n",
    "\n",
    "Archivos:\n",
    "data/archivo.txt\n",
    "data/archivo_de_texto.jpg\n",
    "data/files.png\n",
    "\n",
    "Directorios:\n",
    "data/gato\n",
    "------------------------------\n",
    "Raíz: data/gato\n",
    "\n",
    "Archivos:\n",
    "data/gato/juego_1.txt\n",
    "data/gato/juego_2.txt\n",
    "\n",
    "Directorios:\n",
    "------------------------------\n",
    "'''\n",
    "```\n",
    "\n",
    "El parámetro `topdown` nos permite decidir si la navegación sobre una carpeta será desde el directorio raíz (topdown = True) o desde sus elementos hojas (`topdown = False`)."
   ]
  },
  {
   "cell_type": "markdown",
   "metadata": {},
   "source": [
    "## Archivos (poco)\n",
    "\n",
    "abrir archivo: `open('archivo')`, y en el resto del argumento se le pude colocar `'rt'` que signifca abrir en modo lectura (`r`, _read_), y en forma texto (`t`), también esta el `'wt'`, que indica escribir (`w`, _write_) en forma texto (`t`)\n",
    "\n",
    "Con el método `readlines` obtenemos uns lista de las lineas del archivo de texto\n",
    "\n",
    "Recordatorio de listas = el `.strip()` tambien elimina los saltos de linea mencionados como `\\n`\n",
    "\n",
    "Siempre al manipular un archivo siempre hay que cerrarlo mediante el método `archivo.close()`, y existe una alternativa para el uso de `close`, que es abrir un archivo mediante la sentencia `with`.\n",
    "\n",
    "Ejemplo:\n",
    "\n",
    "```python\n",
    "#En el primer argumento puede ir tanto el nombre del archivo como el path, todo depende en done se encuentre\n",
    "\n",
    "with open('nombre_archivo', \"rt\") as archivo:\n",
    "    lineas = archivo.readlines()\n",
    "```\n",
    "\n",
    "Como tambien se puede guardar el resultado o cualquier cosa en otro archivo mediante lo mismo.\n",
    "\n",
    "```python\n",
    "ruta_juego_2 = os.path.join(\"data\", \"gato\", \"juego_2.txt\")\n",
    "\n",
    "with open(ruta_juego_2, \"wt\") as archivo:\n",
    "    for fila in tablero:\n",
    "        fila_en_texto = \",\".join(fila) + \"\\n\"\n",
    "        print(fila_en_texto)\n",
    "        archivo.write(fila_en_texto)\n",
    "```"
   ]
  }
 ],
 "metadata": {
  "kernelspec": {
   "display_name": "Python 3",
   "language": "python",
   "name": "python3"
  },
  "language_info": {
   "codemirror_mode": {
    "name": "ipython",
    "version": 3
   },
   "file_extension": ".py",
   "mimetype": "text/x-python",
   "name": "python",
   "nbconvert_exporter": "python",
   "pygments_lexer": "ipython3",
   "version": "3.8.5"
  }
 },
 "nbformat": 4,
 "nbformat_minor": 4
}
